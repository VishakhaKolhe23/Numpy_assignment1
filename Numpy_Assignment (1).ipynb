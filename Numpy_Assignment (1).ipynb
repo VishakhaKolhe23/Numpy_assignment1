{
  "cells": [
    {
      "cell_type": "markdown",
      "id": "22098b72",
      "metadata": {
        "id": "22098b72"
      },
      "source": [
        "### 1. Purpose and Advantages of NumPy:\n",
        "- **Purpose**: NumPy is used for efficient numerical computations.\n",
        "- **Advantages**:\n",
        "  - Efficient memory storage with `ndarray`.\n",
        "  - Vectorized operations (no need for loops).\n",
        "  - Support for linear algebra, FFT, random sampling.\n",
        "  - Interoperability with C/C++ and Fortran.\n",
        "\n",
        "> **Enhancement**: Native Python lists are slow for numerical tasks. NumPy enables fast, optimized performance using C-backed arrays and operations.\n"
      ]
    },
    {
      "cell_type": "markdown",
      "id": "c9098b7b",
      "metadata": {
        "id": "c9098b7b"
      },
      "source": [
        "### 2. `np.mean()` vs `np.average()`:\n",
        "| Feature         | `np.mean()`            | `np.average()`               |\n",
        "|----------------|------------------------|------------------------------|\n",
        "| Purpose         | Computes simple mean   | Computes weighted average    |\n",
        "| Weights param   | Not supported          | Supports `weights` argument  |\n",
        "| Use case        | When equal importance  | When elements have weights   |\n",
        "```python\n",
        "import numpy as np\n",
        "a = np.array([1, 2, 3, 4])\n",
        "print(np.mean(a))               # Output: 2.5\n",
        "print(np.average(a))            # Output: 2.5\n",
        "print(np.average(a, weights=[1, 2, 3, 4]))  # Output: 3.0\n",
        "```"
      ]
    },
    {
      "cell_type": "markdown",
      "id": "a82b64ad",
      "metadata": {
        "id": "a82b64ad"
      },
      "source": [
        "### 3. Reversing Arrays:\n",
        "```python\n",
        "a1 = np.array([1, 2, 3])\n",
        "print(a1[::-1])  # 1D reversal\n",
        "\n",
        "a2 = np.array([[1, 2], [3, 4]])\n",
        "print(np.flip(a2, axis=0))  # Flip rows\n",
        "print(np.flip(a2, axis=1))  # Flip columns\n",
        "```"
      ]
    },
    {
      "cell_type": "markdown",
      "id": "9b401905",
      "metadata": {
        "id": "9b401905"
      },
      "source": [
        "### 4. Determining Data Type:\n",
        "```python\n",
        "arr = np.array([1.5, 2.3])\n",
        "print(arr.dtype)  # float64\n",
        "```\n",
        "> **Importance**: Choosing proper data types (e.g., `int32` vs `float64`) saves memory and speeds up computation.\n"
      ]
    },
    {
      "cell_type": "markdown",
      "id": "9079f668",
      "metadata": {
        "id": "9079f668"
      },
      "source": [
        "### 5. `ndarray` and Key Features:\n",
        "- **ndarray**: Core data structure in NumPy.\n",
        "- **Features**:\n",
        "  - Fixed size\n",
        "  - Homogeneous data type\n",
        "  - Supports broadcasting, slicing\n",
        "- **Difference** from lists:\n",
        "  - Faster computation\n",
        "  - Vectorized operations\n",
        "  - Less memory usage\n"
      ]
    },
    {
      "cell_type": "markdown",
      "id": "9e1ebe21",
      "metadata": {
        "id": "9e1ebe21"
      },
      "source": [
        "### 6. NumPy vs Python Lists:\n",
        "```python\n",
        "# NumPy is faster for large arrays\n",
        "arr = np.arange(1e6)\n",
        "lst = list(range(int(1e6)))\n",
        "\n",
        "# NumPy uses optimized C code, less memory\n",
        "```\n"
      ]
    },
    {
      "cell_type": "markdown",
      "id": "a522288a",
      "metadata": {
        "id": "a522288a"
      },
      "source": [
        "### 7. `vstack()` vs `hstack()`:\n",
        "```python\n",
        "a = np.array([1, 2])\n",
        "b = np.array([3, 4])\n",
        "print(np.vstack((a, b)))  # Vertical stacking\n",
        "print(np.hstack((a, b)))  # Horizontal stacking\n",
        "```"
      ]
    },
    {
      "cell_type": "markdown",
      "id": "0c7026ce",
      "metadata": {
        "id": "0c7026ce"
      },
      "source": [
        "### 8. `fliplr()` vs `flipud()`:\n",
        "```python\n",
        "a = np.array([[1, 2], [3, 4]])\n",
        "print(np.fliplr(a))  # Left-Right\n",
        "print(np.flipud(a))  # Up-Down\n",
        "```"
      ]
    },
    {
      "cell_type": "markdown",
      "id": "e74839fa",
      "metadata": {
        "id": "e74839fa"
      },
      "source": [
        "### 9. `array_split()`:\n",
        "```python\n",
        "arr = np.arange(10)\n",
        "print(np.array_split(arr, 3))  # Splits into 3 uneven parts if needed\n",
        "```"
      ]
    },
    {
      "cell_type": "markdown",
      "id": "99644873",
      "metadata": {
        "id": "99644873"
      },
      "source": [
        "### 10. Vectorization and Broadcasting:\n",
        "- **Vectorization**: No explicit loop; operates on entire array.\n",
        "- **Broadcasting**: Handles arrays of different shapes.\n",
        "```python\n",
        "a = np.array([1, 2, 3])\n",
        "print(a + 5)  # Broadcasting scalar\n",
        "```\n",
        "> These features make NumPy fast and memory-efficient.\n"
      ]
    },
    {
      "cell_type": "code",
      "execution_count": 2,
      "id": "aef698c8",
      "metadata": {
        "colab": {
          "base_uri": "https://localhost:8080/"
        },
        "id": "aef698c8",
        "outputId": "783dca2e-714a-4643-9810-2421169ab7f8"
      },
      "outputs": [
        {
          "output_type": "stream",
          "name": "stdout",
          "text": [
            "Original Array:\n",
            " [[60 71 61]\n",
            " [ 4 86 42]\n",
            " [48 30 44]]\n",
            "Transposed Array (rows and columns interchanged):\n",
            " [[60  4 48]\n",
            " [71 86 30]\n",
            " [61 42 44]]\n",
            "2x5:\n",
            " [[0 1 2 3 4]\n",
            " [5 6 7 8 9]]\n",
            "5x2:\n",
            " [[0 1]\n",
            " [2 3]\n",
            " [4 5]\n",
            " [6 7]\n",
            " [8 9]]\n",
            "With border:\n",
            " [[0.         0.         0.         0.         0.         0.        ]\n",
            " [0.         0.44447964 0.43933677 0.06471037 0.26856502 0.        ]\n",
            " [0.         0.23267621 0.11079967 0.07376245 0.78516342 0.        ]\n",
            " [0.         0.76420363 0.13076454 0.8998761  0.94137916 0.        ]\n",
            " [0.         0.99882732 0.7355757  0.90099682 0.18658012 0.        ]\n",
            " [0.         0.         0.         0.         0.         0.        ]]\n",
            "Step array:\n",
            " [10 15 20 25 30 35 40 45 50 55 60]\n",
            "Upper: ['PYTHON' 'NUMPY' 'PANDAS']\n",
            "Lower: ['python' 'numpy' 'pandas']\n",
            "Title: ['Python' 'Numpy' 'Pandas']\n",
            "Spaced: ['p y t h o n' 'n u m p y' 'p a n d a s']\n",
            "Add:\n",
            " [[ 6  8]\n",
            " [10 12]]\n",
            "Subtract:\n",
            " [[-4 -4]\n",
            " [-4 -4]]\n",
            "Multiply:\n",
            " [[ 5 12]\n",
            " [21 32]]\n",
            "Divide:\n",
            " [[0.2        0.33333333]\n",
            " [0.42857143 0.5       ]]\n",
            "Identity:\n",
            " [[1. 0. 0. 0. 0.]\n",
            " [0. 1. 0. 0. 0.]\n",
            " [0. 0. 1. 0. 0.]\n",
            " [0. 0. 0. 1. 0.]\n",
            " [0. 0. 0. 0. 1.]]\n",
            "Diagonal: [1. 1. 1. 1. 1.]\n",
            "Primes: [421 367 173  67 811 431  13 383 283 499 449 947 659 811 661]\n",
            "Weekly Averages: [27.2 29.2 29.2 31.  28.6 29.4]\n"
          ]
        }
      ],
      "source": [
        "import numpy as np\n",
        "import math\n",
        "\n",
        "# 1. 3x3 array with random integers\n",
        "arr = np.random.randint(1, 101, size=(3, 3))\n",
        "print(\"Original Array:\\n\", arr)\n",
        "print(\"Transposed Array (rows and columns interchanged):\\n\", arr.T)\n",
        "\n",
        "# 2. Reshape 1D array\n",
        "arr1d = np.arange(10)\n",
        "print(\"2x5:\\n\", arr1d.reshape(2, 5))\n",
        "print(\"5x2:\\n\", arr1d.reshape(5, 2))\n",
        "\n",
        "# 3. 4x4 array and zero border\n",
        "arr_float = np.random.rand(4, 4)\n",
        "bordered = np.pad(arr_float, pad_width=1, mode='constant', constant_values=0)\n",
        "print(\"With border:\\n\", bordered)\n",
        "\n",
        "# 4. Array with step\n",
        "step_arr = np.arange(10, 61, 5)\n",
        "print(\"Step array:\\n\", step_arr)\n",
        "\n",
        "# 5. Case transformations\n",
        "words = np.array(['python', 'numpy', 'pandas'])\n",
        "print(\"Upper:\", np.char.upper(words))\n",
        "print(\"Lower:\", np.char.lower(words))\n",
        "print(\"Title:\", np.char.title(words))\n",
        "\n",
        "# 6. Space between characters\n",
        "spaced = np.char.join(' ', words)\n",
        "print(\"Spaced:\", spaced)\n",
        "\n",
        "# 7. Element-wise ops\n",
        "a = np.array([[1, 2], [3, 4]])\n",
        "b = np.array([[5, 6], [7, 8]])\n",
        "print(\"Add:\\n\", a + b)\n",
        "print(\"Subtract:\\n\", a - b)\n",
        "print(\"Multiply:\\n\", a * b)\n",
        "print(\"Divide:\\n\", a / b)\n",
        "\n",
        "# 8. Identity and diagonal\n",
        "identity = np.eye(5)\n",
        "print(\"Identity:\\n\", identity)\n",
        "print(\"Diagonal:\", np.diag(identity))\n",
        "\n",
        "# 9. Random integers and primes\n",
        "rand_arr = np.random.randint(0, 1001, 100)\n",
        "def is_prime(n):\n",
        "    if n < 2:\n",
        "        return False\n",
        "    for i in range(2, int(math.sqrt(n)) + 1):\n",
        "        if n % i == 0:\n",
        "            return False\n",
        "    return True\n",
        "primes = rand_arr[np.vectorize(is_prime)(rand_arr)]\n",
        "print(\"Primes:\", primes)\n",
        "\n",
        "# 10. Daily temperatures and weekly average\n",
        "temps = np.random.randint(20, 40, size=30)\n",
        "weekly_avg = temps.reshape(6, 5).mean(axis=1)\n",
        "print(\"Weekly Averages:\", weekly_avg)"
      ]
    },
    {
      "cell_type": "code",
      "execution_count": null,
      "id": "784fdfa8",
      "metadata": {
        "id": "784fdfa8"
      },
      "outputs": [],
      "source": []
    }
  ],
  "metadata": {
    "kernelspec": {
      "display_name": "base",
      "language": "python",
      "name": "python3"
    },
    "language_info": {
      "codemirror_mode": {
        "name": "ipython",
        "version": 3
      },
      "file_extension": ".py",
      "mimetype": "text/x-python",
      "name": "python",
      "nbconvert_exporter": "python",
      "pygments_lexer": "ipython3",
      "version": "3.12.7"
    },
    "colab": {
      "provenance": []
    }
  },
  "nbformat": 4,
  "nbformat_minor": 5
}